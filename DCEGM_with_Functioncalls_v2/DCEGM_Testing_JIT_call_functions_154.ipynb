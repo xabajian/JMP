{
 "cells": [
  {
   "attachments": {},
   "cell_type": "markdown",
   "metadata": {},
   "source": [
    "# Jupyter Notebook to Try and JIT My EGM"
   ]
  },
  {
   "attachments": {},
   "cell_type": "markdown",
   "metadata": {},
   "source": [
    "2/10/2025\n",
    "Alexander Abajian\n",
    "...\n",
    "Script to generate expected value functions and conditional choice\n",
    "probabilities using the discrete‐choice endogenous grid method of Iskhakov (2017)\n",
    "\n",
    "Reference: https://onlinelibrary.wiley.com/doi/abs/10.3982/QE643\n",
    "\n"
   ]
  },
  {
   "attachments": {},
   "cell_type": "markdown",
   "metadata": {},
   "source": [
    "Packages"
   ]
  },
  {
   "cell_type": "code",
   "execution_count": 1,
   "metadata": {},
   "outputs": [],
   "source": [
    "import numpy as np\n",
    "import numba\n",
    "from numba import jit\n",
    "\n",
    "import os  # lets you set your working directory easily\n",
    "import copy #use for shallow copies of value functions\n",
    "import time  #use for timing code iterations\n",
    "from scipy.io import loadmat\n",
    "from scipy.interpolate import interp1d\n",
    "\n",
    "# Set your working directory to save files into\n",
    "\n"
   ]
  },
  {
   "attachments": {},
   "cell_type": "markdown",
   "metadata": {},
   "source": [
    "# Read Matlab Files mat files that I need ((NB this is CHAT))"
   ]
  },
  {
   "cell_type": "code",
   "execution_count": 2,
   "metadata": {},
   "outputs": [],
   "source": [
    "from distance_matrix_function import  distance_matrix_function\n",
    "\n",
    "\n",
    "# Load baseline steady-state productivity levels.\n",
    "# (Assumes the .mat file contains a variable named 'baseline_economy')\n",
    "baseline_data = loadmat(\"baseline_economy.mat\")\n",
    "baseline_economy = baseline_data['baseline_economy']\n",
    "\n",
    "# In MATLAB, indexing is 1-indexed. Here we use 0-indexing.\n",
    "country_index = baseline_economy[:, 0].flatten()\n",
    "population_share = baseline_economy[:, 2].flatten()  # MATLAB column 3\n",
    "tfp_BL = baseline_economy[:, 3].flatten()              # MATLAB column 4\n",
    "\n",
    "\n",
    "# Load bilateral (normalized) distances.\n",
    "# (Assumes the .mat file contains a variable named 'distance_matrix')\n",
    "distances_data = loadmat(\"distances.mat\")\n",
    "distance_matrix = distances_data['distance_matrix']\n",
    "\n",
    "# prod grid testing\n",
    "prod_grid = tfp_BL \n",
    "theta_hat = np.array([ 4,\t4, 0.1,\t0.1,\n",
    "                      0.1\t,0.1 , 0.1 ,\n",
    "                      0.1,0.1,0.1,\t0.3,\t0.1\t,1])\n",
    "#theta_hat,prod_grid, distance_matrix\n",
    "\n",
    "\n",
    "m_matrix_test = distance_matrix_function(theta_hat, distance_matrix, prod_grid)\n",
    "wage_grid = prod_grid *(1-0.3)* (0.3/(0.0254+0.6))**(0.3/(1-0.3))\n",
    "\n"
   ]
  },
  {
   "attachments": {},
   "cell_type": "markdown",
   "metadata": {},
   "source": [
    "# Set up John Stachurski JIT'ed version remove r and migration matrix"
   ]
  },
  {
   "cell_type": "code",
   "execution_count": 3,
   "metadata": {},
   "outputs": [],
   "source": [
    "import numba\n",
    "import numpy as np\n",
    "from numba import float64\n",
    "from numba import int64\n",
    "from numba.experimental import jitclass\n",
    "# from numpy.polynomial.polynomial import polyfit, polyval\n",
    "# from numpy import interp, ndarray, piecewise\n",
    "\n",
    "\n",
    "\n",
    "dcegm_data = [\n",
    "    ('α', float64),          # Production parameter\n",
    "    ('β', float64),          # Discount factor\n",
    "    ('δ', float64),          # Depreciation\n",
    "    ('γ', float64),          # growth\n",
    "    ('ν', float64),          # dispersion \n",
    "    ('r', float64),          # interest rate \n",
    "    ('grid_max', float64),    # max wealth\n",
    "    ('grid_size', int64),\n",
    "    ('number_locations',int64),\n",
    "    ('prod_states',int64),\n",
    "    ('asset_grid', float64[:]),    # asset grid (array)\n",
    "    ('wage_grid', float64[:]),    # wage grid (array)\n",
    "    ('prod_grid', float64[:]),    # wage grid (array)\n",
    "    ('locations', float64[:]),    # locations array  (array)\n",
    "    ('s_grid', float64[:]),    # productivity grid (array)\n",
    "    ('pi_array', float64[:])    # productivity transitionsas array\n",
    "]\n",
    "\n",
    "\n",
    "\n",
    "\n",
    "@jitclass(dcegm_data)\n",
    "class dcegm_model:\n",
    "\n",
    "    def __init__(self,\n",
    "                α=0.3,\n",
    "                β=0.985,\n",
    "                δ=0.06,\n",
    "                γ=1.01,\n",
    "                ν=0.5,\n",
    "                r=0.01,\n",
    "                s_grid=np.array([0.2, 1], dtype=np.float64),  \n",
    "                prod_grid = np.zeros([154], dtype=np.float64),\n",
    "                wage_grid = np.zeros([154], dtype=np.float64),\n",
    "                pi_array=np.array([0.5, 0.5, 0.05, 0.95], dtype=np.float64), \n",
    "                grid_max=5,\n",
    "                grid_size=101):\n",
    "\n",
    "        \n",
    "\n",
    "        ##params\n",
    "        self.α, self.β, self.γ, self.δ, self.ν , self.r = α,β,γ,δ,ν,r\n",
    "        \n",
    "\n",
    "        ## grids i provide\n",
    "        #set prod grid\n",
    "        self.prod_grid = prod_grid\n",
    "\n",
    "        \n",
    "        self.wage_grid = prod_grid*(1-self.α)* ( self.α/(self.r+self.δ))**(self.α/(1-self.α))\n",
    "        self.s_grid = s_grid\n",
    "        self.pi_array = pi_array\n",
    "        self.number_locations = len(prod_grid)\n",
    "        self.prod_states = len(s_grid)\n",
    "        \n",
    "        # Set up asset grid\n",
    "        self.grid_max = grid_max\n",
    "        self.grid_size = grid_size\n",
    "        self.asset_grid = np.linspace(0, grid_max, grid_size)\n",
    "\n",
    "        # Set up location grid\n",
    "        self.locations = np.linspace(1,self.number_locations,self.number_locations)\n",
    "\n",
    "    def wealth_of_a(self,a,s,dest):\n",
    "        \"Wealth next period as function of xd\"\n",
    "        return (1+self.r)*a + self.s_grid[s]*self.wage_grid[dest]\n",
    "\n",
    "\n",
    "    def u_c(self, c):\n",
    "        \"utility function\"\n",
    "        return np.log(c)\n",
    "    \n",
    "    def du_dc(self, c):\n",
    "        \"Derivative of utility\"\n",
    "        return 1/c\n",
    "\n",
    "    def du_dc_inv(self, m_utility):\n",
    "        \"Inverse of m_utility'\"\n",
    "        return 1/m_utility\n",
    "    \n",
    "    \n",
    "    def interp_exterp(self,input, xp, fp):\n",
    "        \"\"\"1D piecewise linear interpolation with linear extrapolation.\"\"\"\n",
    "\n",
    "    \n",
    "    ## one direction\n",
    "        if input > xp[-1]:\n",
    "            output= xp[-1] +  (input - xp[-1])  * (fp[-1] - fp[-2])/(xp[-1] - xp[-2]) \n",
    "        else:\n",
    "            output = np.interp(input, xp, fp)\n",
    "            \n",
    "        return output\n",
    "    \n",
    "\n",
    "\n"
   ]
  },
  {
   "attachments": {},
   "cell_type": "markdown",
   "metadata": {},
   "source": [
    "# try an initialize an instance of my dcegm model class\n"
   ]
  },
  {
   "cell_type": "code",
   "execution_count": 4,
   "metadata": {},
   "outputs": [],
   "source": [
    "prod_grid_short = prod_grid\n",
    "prod_grid_short = np.array([0.1, 1])\n",
    "#prod_grid_short = np.array([0.1, 1, 1, 1, 1, 1, 1, 1, 1])\n",
    "dcegm_model_in = dcegm_model(r=0.01,prod_grid = prod_grid_short)\n",
    "# dcegm_model_in = dcegm_model(r=20,wage_grid = [])\n",
    "\n",
    "\n"
   ]
  },
  {
   "attachments": {},
   "cell_type": "markdown",
   "metadata": {},
   "source": [
    "# Testing aiyagari simulating across all agents"
   ]
  },
  {
   "cell_type": "code",
   "execution_count": 5,
   "metadata": {},
   "outputs": [
    {
     "name": "stdout",
     "output_type": "stream",
     "text": [
      "(102, 81, 2)\n",
      "Error at iteration 100 is <object type:float64>.\n",
      "Error at iteration 200 is <object type:float64>.\n",
      "Error at iteration 300 is <object type:float64>.\n",
      "Error at iteration 400 is <object type:float64>.\n",
      "Error at iteration 500 is <object type:float64>.\n",
      "Error at iteration 600 is <object type:float64>.\n",
      "Error at iteration 700 is <object type:float64>.\n",
      "Error at iteration 800 is <object type:float64>.\n",
      "Error at iteration 900 is <object type:float64>.\n",
      "Error at iteration 1000 is <object type:float64>.\n",
      "Error at iteration 1100 is <object type:float64>.\n",
      "Error at iteration 1200 is <object type:float64>.\n",
      "Error at iteration 1300 is <object type:float64>.\n",
      "Error at iteration 1400 is <object type:float64>.\n",
      "Error at iteration 1500 is <object type:float64>.\n",
      "\n",
      "Converged in 1546 iterations.\n",
      "Time elapsed: parallel, no mc argument 189.7774739265442\n"
     ]
    }
   ],
   "source": [
    "import quantecon as qe \n",
    "from simulate_agents_parallel import simulate_agents_parallel\n",
    "from simulate_parallel_EGM_parallel import simulate_parallel_EGM_parallel\n",
    "from distance_matrix_function import  distance_matrix_function\n",
    "\n",
    "\n",
    "model_in = dcegm_model_in\n",
    "# Initialize parameters\n",
    "β = model_in.β\n",
    "r = model_in.r\n",
    "γ = model_in.γ\n",
    "ν = model_in.ν\n",
    "\n",
    "## grids\n",
    "wage_grid = model_in.wage_grid\n",
    "s_grid = model_in.s_grid\n",
    "prod_states=len(s_grid)\n",
    "asset_grid = model_in.asset_grid\n",
    "locations = model_in.locations\n",
    "number_locations = model_in.number_locations \n",
    "prod_grid = tfp_BL \n",
    "\n",
    "## MIGRATION MATRIX\n",
    "\n",
    "theta_hat = np.array([ 4,\t4, 0.1,\t0.1,\n",
    "                      0.1\t,0.1 , 0.1 ,\n",
    "                      0.1,0.1,0.1,\t0.3,\t0.1\t,1])\n",
    "#theta_hat,prod_grid, distance_matrix\n",
    "pi_matrix = np.array([ [model_in.pi_array[0],model_in.pi_array[1] ],[ model_in.pi_array[2],model_in.pi_array[3] ] ]) \n",
    "m_matrix = distance_matrix_function(theta_hat, distance_matrix, prod_grid)\n",
    "\n",
    "##EGM startng valeus\n",
    "grid_size = model_in.grid_size\n",
    "\n",
    "#initialize stating values\n",
    "c_egm_0= np.ones((grid_size + 1, number_locations * number_locations, prod_states))\n",
    "## row for zeros to be used in interpolation\n",
    "c_egm_0[0, :, :] = 0\n",
    "m_nodes = np.concatenate(([0],  asset_grid + 0.01))\n",
    "m_egm_0 = np.tile(m_nodes[:, None, None], (1, number_locations * number_locations, prod_states))\n",
    "\n",
    "# Value function grids for location choices\n",
    "v_egm_0 = np.zeros_like(c_egm_0)\n",
    "ev_egm_0 = np.zeros((grid_size,number_locations,prod_states))\n",
    "m_egm_0 = np.array(m_egm_0)\n",
    "c_egm_in = np.array(c_egm_0)\n",
    "v_egm_0 = np.array(v_egm_0)\n",
    "ev_egm_0 = np.array(ev_egm_0)\n",
    "\n",
    "# Initialize asset and location paths\n",
    "number_states = len(s_grid)\n",
    "number_agents = 1_000\n",
    "number_steps = 1_000\n",
    "\n",
    "# Seed initial assets and locations\n",
    "seed_locations = np.random.randint(0, number_locations, size= number_agents)\n",
    "seed_assets = np.ones_like(seed_locations)\n",
    "#seed_shocks = np.random.rand(number_steps, number_agents)\n",
    "asset_paths = np.vstack([seed_assets, np.zeros((number_steps, number_agents))])\n",
    "location_paths = np.vstack([seed_locations, np.zeros((number_steps, number_agents), dtype=int)])\n",
    "prod_states = len(s_grid)\n",
    "\n",
    "\n",
    "\n",
    "\n",
    "# ## markov chain\n",
    "# ### NB MARKOV CHAINS ARE PRINTED AS OUTCOMES IN ROWS-- ROW INDEXES AGENTS AND COLUMS \"PERIODS\"---\n",
    "mc = qe.MarkovChain(pi_matrix)\n",
    "print(m_egm_0.shape)\n",
    "\n",
    "\n",
    "##Simulate\n",
    "start = time.time()\n",
    "short_markov = mc.simulate_indices(ts_length=1,  num_reps=number_agents)\n",
    "labor_paths = np.zeros((number_steps+1,number_agents), dtype=int)\n",
    "labor_paths[0,:] = np.transpose(short_markov)\n",
    "\n",
    "test_solver =  simulate_agents_parallel(labor_paths,seed_assets,prod_states,\n",
    "                    m_egm_0,c_egm_0,v_egm_0,ev_egm_0,\n",
    "                    seed_locations,asset_paths,location_paths, number_agents, number_steps,model_in,m_matrix)\n",
    "end = time.time()\n",
    "print(\"Time elapsed: parallel, no mc argument\", end - start)\n",
    "\n",
    "\n",
    "\n",
    "# ##Simulate\n",
    "start = time.time()\n",
    "short_markov = mc.simulate_indices(ts_length=1,  num_reps=number_agents)\n",
    "labor_paths = np.zeros((number_steps+1,number_agents), dtype=int)\n",
    "labor_paths[0,:] = np.transpose(short_markov)\n",
    "\n",
    "test_solver =  simulate_parallel_EGM_parallel(labor_paths,seed_assets,prod_states,\n",
    "                    m_egm_0,c_egm_0,v_egm_0,ev_egm_0,\n",
    "                    seed_locations,asset_paths,location_paths, number_agents, number_steps,model_in,m_matrix)\n",
    "end = time.time()\n",
    "print(\"Time elapsed: parallel, no mc argument,parallelized_VFI\", end - start)\n",
    "\n",
    "location_paths_out = test_solver[1]\n",
    "\n"
   ]
  },
  {
   "attachments": {},
   "cell_type": "markdown",
   "metadata": {},
   "source": [
    "# Aiyagari simulation version that simulates all agents at once (simulate agents.py)"
   ]
  },
  {
   "cell_type": "code",
   "execution_count": 6,
   "metadata": {},
   "outputs": [
    {
     "data": {
      "image/png": "[encoded data removed]",
      "text/plain": [
       "<Figure size 640x480 with 1 Axes>"
      ]
     },
     "metadata": {},
     "output_type": "display_data"
    },
    {
     "data": {
      "text/plain": [
       "np.float64(1.0493341318843439)"
      ]
     },
     "metadata": {},
     "output_type": "display_data"
    },
    {
     "data": {
      "text/plain": [
       "(array([283., 325., 392.]),\n",
       " array([0.        , 2.66666667, 5.33333333, 8.        ]),\n",
       " <BarContainer object of 3 artists>)"
      ]
     },
     "execution_count": 6,
     "metadata": {},
     "output_type": "execute_result"
    },
    {
     "data": {
      "image/png": "[encoded data removed]",
      "text/plain": [
       "<Figure size 640x480 with 1 Axes>"
      ]
     },
     "metadata": {},
     "output_type": "display_data"
    }
   ],
   "source": [
    "#print(seed_locations,location_paths_out)\n",
    "\n",
    "import matplotlib.pyplot as plt\n",
    "plt.hist(test_solver[0], bins='auto')  # arguments are passed to np.histogram\n",
    "plt.title(\"simulate assets\")\n",
    "plt.show()\n",
    "\n",
    "display(np.mean(test_solver[0]))\n",
    "\n",
    "location_paths_out = test_solver[1]\n",
    "plt.hist(location_paths_out, bins=3)\n"
   ]
  }
 ],
 "metadata": {
  "kernelspec": {
   "display_name": "Python 3",
   "language": "python",
   "name": "python3"
  },
  "language_info": {
   "codemirror_mode": {
    "name": "ipython",
    "version": 3
   },
   "file_extension": ".py",
   "mimetype": "text/x-python",
   "name": "python",
   "nbconvert_exporter": "python",
   "pygments_lexer": "ipython3",
   "version": "3.11.1 (v3.11.1:a7a450f84a, Dec  6 2022, 15:24:06) [Clang 13.0.0 (clang-1300.0.29.30)]"
  },
  "orig_nbformat": 4,
  "vscode": {
   "interpreter": {
    "hash": "aee8b7b246df8f9039afb4144a1f6fd8d2ca17a180786b69acc140d282b71a49"
   }
  }
 },
 "nbformat": 4,
 "nbformat_minor": 2
}
